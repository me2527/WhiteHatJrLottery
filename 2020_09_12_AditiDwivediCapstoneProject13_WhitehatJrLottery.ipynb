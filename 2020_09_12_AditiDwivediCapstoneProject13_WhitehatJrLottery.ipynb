{
  "nbformat": 4,
  "nbformat_minor": 0,
  "metadata": {
    "colab": {
      "name": "2020/09/12_AditiDwivediCapstoneProject13_WhitehatJrLottery",
      "provenance": [],
      "collapsed_sections": [],
      "include_colab_link": true
    },
    "kernelspec": {
      "name": "python3",
      "display_name": "Python 3"
    }
  },
  "cells": [
    {
      "cell_type": "markdown",
      "metadata": {
        "id": "view-in-github",
        "colab_type": "text"
      },
      "source": [
        "<a href=\"https://colab.research.google.com/github/me2527/WhiteHatJrLottery/blob/main/2020_09_12_AditiDwivediCapstoneProject13_WhitehatJrLottery.ipynb\" target=\"_parent\"><img src=\"https://colab.research.google.com/assets/colab-badge.svg\" alt=\"Open In Colab\"/></a>"
      ]
    },
    {
      "cell_type": "markdown",
      "metadata": {
        "id": "Vcvmc_dgH1Ry"
      },
      "source": [
        "# Project 13: WhiteHat Jr Lottery"
      ]
    },
    {
      "cell_type": "markdown",
      "metadata": {
        "id": "T078LXWwigva"
      },
      "source": [
        "---"
      ]
    },
    {
      "cell_type": "markdown",
      "metadata": {
        "id": "QM0Gsj6Ncjz8"
      },
      "source": [
        "### Context\n",
        "\n",
        "Many people have the fantasy of winning a lottery. The lottery seems a speedy way of becoming rich. Lotteries refer to games where we need to guess which numbers will be drawn from a pool of options. They are designed in such a way that there are extremely low chances of winning a jackpot amount.\n",
        "\n",
        "During advertising, many companies that run lotteries target individuals belonging to the low income and debt-ridden groups. Lotteries can incur heavy losses to your income yet studies revealed that financially challenged people are more likely to purchase lottery tickets as compared to the wealthy people. They spend a large amount of their meagre income to purchase lottery tickets. These lotteries not only exploit the desires of the underprivileged of becoming rich but also worsens their current financial condition. Lottery houses use the lottery mathematics which is nothing but the probability and expected value to design their lottery games in a way that chances of winning the lottery are extremely low.\n",
        "\n",
        "Let us try to understand the underlying math involved in a Lottery game."
      ]
    },
    {
      "cell_type": "markdown",
      "metadata": {
        "id": "gguw7YCDz3gz"
      },
      "source": [
        "---"
      ]
    },
    {
      "cell_type": "markdown",
      "metadata": {
        "id": "bLWi0FX7gr8r"
      },
      "source": [
        "### Problem Statement\n",
        "\n",
        "Imagine a situation in which WhiteHat Jr announced its lottery game. The amount of the jackpot prize to be won is INR 25,000,000 (or INR 25 million).\n",
        "\n",
        "Suppose you want to play this lottery and you bought a ticket for it which costs INR 250. It has two identical leaves or copies; one is for yourself and another for WhiteHat Jr.\n",
        "\n",
        "<img src='https://student-datasets-bucket.s3.ap-south-1.amazonaws.com/images/lottery_ticket.png' width=500>\n",
        "\n",
        "You have to fill both the copies and give one back to WhiteHat Jr. Each leaf has 70 boxes numbered from 1 to 70. You have to mark 10 different numbers out of those 70 numbers in both the leaves and submit the second copy of the filled ticket back to WhiteHat Jr.\n",
        "\n",
        "<img src='https://student-datasets-bucket.s3.ap-south-1.amazonaws.com/images/lottery_ticket_filled.png' width=500>\n",
        "\n",
        "After a week in a lucky draw, 10 balls will be drawn randomly one-by-one from an urn of 70 balls. Each ball is labelled from 1 to 70. Once a ball is drawn, it doesn't go back inside the urn.\n",
        "\n",
        "<img src='https://student-datasets-bucket.s3.ap-south-1.amazonaws.com/images/lottery_machine.jpg' width=500>\n",
        "\n",
        "If the number printed on the balls drawn from the urn matches with the numbers that you marked on your lottery ticket, then you will win a prize but there are some conditions involved. Here's the list of all the conditions of winning the prizes:\n",
        "\n",
        "- If all 10 numbers that you marked on your lottery ticket matches with the ones on the balls drawn, you will win **INR 25,000,000, the jackpot prize**.\n",
        "\n",
        "- If 9 out of the 10 numbers that you marked on your lottery ticket matches with the ones on the balls drawn, you will win INR 2,500,000.\n",
        "\n",
        "- If 8 out of the 10 numbers that you marked on your lottery ticket matches with the ones on the balls drawn, you will win INR 250,000.\n",
        "\n",
        "- If 7 out of the 10 numbers that you marked on your lottery ticket matches with the ones on the balls drawn, you will win INR 25,000.\n",
        "\n",
        "- If 6 out of the 10 numbers that you marked on your lottery ticket matches with the ones on the balls drawn, you will win INR 2,500.\n",
        "\n",
        "- If 5 out of the 10 numbers that you marked on your lottery ticket matches with the ones on the balls drawn, you will win INR 250.\n",
        "\n",
        "- In all other cases, you win nothing.\n",
        "\n",
        "Find out the amount you are expected to win or lose on an average per lottery ticket.\n",
        "\n",
        "**Note:** The student must first attempt the problem on their own and then they should take the help of the teacher to solve it."
      ]
    },
    {
      "cell_type": "markdown",
      "metadata": {
        "id": "80LMG6Mkdevt"
      },
      "source": [
        "---"
      ]
    },
    {
      "cell_type": "markdown",
      "metadata": {
        "id": "i0_8waPmiJDd"
      },
      "source": [
        "#### Getting Started\n",
        "\n",
        "Follow the steps described below to solve the project:\n",
        "\n",
        "1. Click on the link provided below to open the Colab file for this project.\n",
        "   \n",
        "   https://colab.research.google.com/drive/1C5I6usaFMdWtS6Y5ts1KBABv7fZUn-Ya?usp=sharing\n",
        "\n",
        "2. Create the duplicate copy of the Colab file. Here are the steps to create the duplicate copy:\n",
        "\n",
        "    - Click on the **File** menu. A new drop-down list will appear.\n",
        "\n",
        "      <img src='https://student-datasets-bucket.s3.ap-south-1.amazonaws.com/images/project-share-images/0_file_menu.png' width=500>\n",
        "\n",
        "    - Click on the **Save a copy in Drive** option. A duplicate copy will get created. It will open up in the new tab on your web browser.\n",
        "\n",
        "      <img src='https://student-datasets-bucket.s3.ap-south-1.amazonaws.com/images/project-share-images/1_create_colab_duplicate_copy.png' width=500>\n",
        "\n",
        "     - After creating the duplicate copy of the notebook, please rename it in the **YYYY-MM-DD_StudentName_CapstoneProject13** format. \n",
        "\n",
        "3. Now, write your code in the prescribed code cells."
      ]
    },
    {
      "cell_type": "markdown",
      "metadata": {
        "id": "9LertdkPiK1I"
      },
      "source": [
        "---"
      ]
    },
    {
      "cell_type": "markdown",
      "metadata": {
        "id": "wFFxkg6Cdf1s"
      },
      "source": [
        "### Recommended Approach\n",
        "\n",
        "1. List down the possible cases in which the numbers marked on the lottery ticket matches with the numbers on the 10 balls drawn from the urn. Eg.\n",
        "\n",
        "   - **Possibility 1:** 0 out of the 10 numbers that you marked on your lottery ticket matches with the ones on the 10 balls drawn. ${}^{10}C_0 = \\frac{10!}{0! \\times 10!} = 1$ way as shown in the image below.\n",
        "\n",
        "     <img src='https://student-datasets-bucket.s3.ap-south-1.amazonaws.com/images/no_numbers_match.png' width=400>\n",
        "\n",
        "     **Note:** The **green** colour denotes that the numbers marked on the ticket matches with the ones on the balls drawn. The **red** colour denotes that the numbers marked on the ticket **do not** match with the ones on the balls drawn. \n",
        "\n",
        "   - **Possibility 2:** 1 out of the 10 numbers that you marked on your lottery ticket matches with the ones on the 10 balls drawn. This can be done in ${}^{10}C_1 = \\frac{10!}{1! \\times 9!} = \\frac{10 \\times 9!}{9!} = 10$ ways as shown in the image below. \n",
        "\n",
        "     <img src='https://student-datasets-bucket.s3.ap-south-1.amazonaws.com/images/one_numbers_match.png' width=400>\n",
        "\n",
        "    \n",
        "\n",
        "   - **Possibility 3:** 2 out of the 10 numbers that you marked on your lottery ticket matches with the ones on the 10 balls drawn. This can be done in ${}^{10}C_2 = \\frac{10!}{2! \\times 8!} = \\frac{10\\times 9 \\times 8!}{2! \\times 8!} = 45$ ways as shown in the image below.\n",
        "\n",
        "     <img src='https://student-datasets-bucket.s3.ap-south-1.amazonaws.com/images/two_numbers_match.png' width=400>\n",
        "\n",
        "    .\n",
        "\n",
        "    .\n",
        "\n",
        "    .\n",
        "\n",
        "   - **Possibility 11:** 10 out of the 10 numbers that you marked on your lottery ticket matches with the ones on the 10 balls drawn. This can be done in ${}^{10}C_{10} = \\frac{10!}{10! \\times 0!} = 1$ way as shown in the image below.\n",
        "\n",
        "     <img src='https://student-datasets-bucket.s3.ap-south-1.amazonaws.com/images/all_numbers_match.png' width=400>\n",
        "\n",
        "2. Find out the probabilities of each possibility.\n",
        "\n",
        "3. Multiply the amount to be won or lost with their corresponding probabilities. \n",
        "\n",
        "4. Add all the products (obtained in step 3) to get the expected amount to be won or lost after buying a lottery ticket.\n",
        "\n",
        "5. Implement the solution using Python."
      ]
    },
    {
      "cell_type": "markdown",
      "metadata": {
        "id": "aoXQDDHRddrq"
      },
      "source": [
        "---"
      ]
    },
    {
      "cell_type": "code",
      "metadata": {
        "id": "Yrt680LDrWuj",
        "outputId": "c2091719-15f4-448f-bcc0-48741029bb7c",
        "colab": {
          "base_uri": "https://localhost:8080/",
          "height": 212
        }
      },
      "source": [
        "# Create a list containing the number of favourable outcomes per draw for random variables X = 0 to X = 10.\n",
        "favourable_outcomes =[]\n",
        "\n",
        "for i in range(0,11):\n",
        "  f=[]\n",
        "  for j in range(0,10):\n",
        "    if j<i:\n",
        "      f.append(1)\n",
        "    else:\n",
        "      f.append(69-j)\n",
        "  favourable_outcomes.append(f)\n",
        "favourable_outcomes\n"
      ],
      "execution_count": null,
      "outputs": [
        {
          "output_type": "execute_result",
          "data": {
            "text/plain": [
              "[[69, 68, 67, 66, 65, 64, 63, 62, 61, 60],\n",
              " [1, 68, 67, 66, 65, 64, 63, 62, 61, 60],\n",
              " [1, 1, 67, 66, 65, 64, 63, 62, 61, 60],\n",
              " [1, 1, 1, 66, 65, 64, 63, 62, 61, 60],\n",
              " [1, 1, 1, 1, 65, 64, 63, 62, 61, 60],\n",
              " [1, 1, 1, 1, 1, 64, 63, 62, 61, 60],\n",
              " [1, 1, 1, 1, 1, 1, 63, 62, 61, 60],\n",
              " [1, 1, 1, 1, 1, 1, 1, 62, 61, 60],\n",
              " [1, 1, 1, 1, 1, 1, 1, 1, 61, 60],\n",
              " [1, 1, 1, 1, 1, 1, 1, 1, 1, 60],\n",
              " [1, 1, 1, 1, 1, 1, 1, 1, 1, 1]]"
            ]
          },
          "metadata": {
            "tags": []
          },
          "execution_count": 1
        }
      ]
    },
    {
      "cell_type": "code",
      "metadata": {
        "id": "aQG096l5sx1m",
        "outputId": "8c695777-cc10-4e82-d939-f50acad90a1c",
        "colab": {
          "base_uri": "https://localhost:8080/",
          "height": 1000
        }
      },
      "source": [
        "# Create a list containing probabilities of the random variable X = 0 to X = 10.\n",
        "prob_favourable_outcomes = []\n",
        "for i in range(0,11):\n",
        "  p=[]\n",
        "  for j in range(0,10):\n",
        "    if j<i:\n",
        "      p.append(1 / (70 - j))\n",
        "    else:\n",
        "      p.append((69 - j) / (70 - j))\n",
        "  prob_favourable_outcomes.append(p)\n",
        "prob_favourable_outcomes"
      ],
      "execution_count": null,
      "outputs": [
        {
          "output_type": "execute_result",
          "data": {
            "text/plain": [
              "[[0.9857142857142858,\n",
              "  0.9855072463768116,\n",
              "  0.9852941176470589,\n",
              "  0.9850746268656716,\n",
              "  0.9848484848484849,\n",
              "  0.9846153846153847,\n",
              "  0.984375,\n",
              "  0.9841269841269841,\n",
              "  0.9838709677419355,\n",
              "  0.9836065573770492],\n",
              " [0.014285714285714285,\n",
              "  0.9855072463768116,\n",
              "  0.9852941176470589,\n",
              "  0.9850746268656716,\n",
              "  0.9848484848484849,\n",
              "  0.9846153846153847,\n",
              "  0.984375,\n",
              "  0.9841269841269841,\n",
              "  0.9838709677419355,\n",
              "  0.9836065573770492],\n",
              " [0.014285714285714285,\n",
              "  0.014492753623188406,\n",
              "  0.9852941176470589,\n",
              "  0.9850746268656716,\n",
              "  0.9848484848484849,\n",
              "  0.9846153846153847,\n",
              "  0.984375,\n",
              "  0.9841269841269841,\n",
              "  0.9838709677419355,\n",
              "  0.9836065573770492],\n",
              " [0.014285714285714285,\n",
              "  0.014492753623188406,\n",
              "  0.014705882352941176,\n",
              "  0.9850746268656716,\n",
              "  0.9848484848484849,\n",
              "  0.9846153846153847,\n",
              "  0.984375,\n",
              "  0.9841269841269841,\n",
              "  0.9838709677419355,\n",
              "  0.9836065573770492],\n",
              " [0.014285714285714285,\n",
              "  0.014492753623188406,\n",
              "  0.014705882352941176,\n",
              "  0.014925373134328358,\n",
              "  0.9848484848484849,\n",
              "  0.9846153846153847,\n",
              "  0.984375,\n",
              "  0.9841269841269841,\n",
              "  0.9838709677419355,\n",
              "  0.9836065573770492],\n",
              " [0.014285714285714285,\n",
              "  0.014492753623188406,\n",
              "  0.014705882352941176,\n",
              "  0.014925373134328358,\n",
              "  0.015151515151515152,\n",
              "  0.9846153846153847,\n",
              "  0.984375,\n",
              "  0.9841269841269841,\n",
              "  0.9838709677419355,\n",
              "  0.9836065573770492],\n",
              " [0.014285714285714285,\n",
              "  0.014492753623188406,\n",
              "  0.014705882352941176,\n",
              "  0.014925373134328358,\n",
              "  0.015151515151515152,\n",
              "  0.015384615384615385,\n",
              "  0.984375,\n",
              "  0.9841269841269841,\n",
              "  0.9838709677419355,\n",
              "  0.9836065573770492],\n",
              " [0.014285714285714285,\n",
              "  0.014492753623188406,\n",
              "  0.014705882352941176,\n",
              "  0.014925373134328358,\n",
              "  0.015151515151515152,\n",
              "  0.015384615384615385,\n",
              "  0.015625,\n",
              "  0.9841269841269841,\n",
              "  0.9838709677419355,\n",
              "  0.9836065573770492],\n",
              " [0.014285714285714285,\n",
              "  0.014492753623188406,\n",
              "  0.014705882352941176,\n",
              "  0.014925373134328358,\n",
              "  0.015151515151515152,\n",
              "  0.015384615384615385,\n",
              "  0.015625,\n",
              "  0.015873015873015872,\n",
              "  0.9838709677419355,\n",
              "  0.9836065573770492],\n",
              " [0.014285714285714285,\n",
              "  0.014492753623188406,\n",
              "  0.014705882352941176,\n",
              "  0.014925373134328358,\n",
              "  0.015151515151515152,\n",
              "  0.015384615384615385,\n",
              "  0.015625,\n",
              "  0.015873015873015872,\n",
              "  0.016129032258064516,\n",
              "  0.9836065573770492],\n",
              " [0.014285714285714285,\n",
              "  0.014492753623188406,\n",
              "  0.014705882352941176,\n",
              "  0.014925373134328358,\n",
              "  0.015151515151515152,\n",
              "  0.015384615384615385,\n",
              "  0.015625,\n",
              "  0.015873015873015872,\n",
              "  0.016129032258064516,\n",
              "  0.01639344262295082]]"
            ]
          },
          "metadata": {
            "tags": []
          },
          "execution_count": 2
        }
      ]
    },
    {
      "cell_type": "code",
      "metadata": {
        "id": "CBXukb_QpBnS"
      },
      "source": [
        "# Function to calculate the factorial value of a number 'n'.\n",
        "def factorial(num):\n",
        "  factorial = 1\n",
        "  if num < 0:\n",
        "    return \"Undefined.\"\n",
        "  else:\n",
        "    while num > 0:\n",
        "      factorial *= num\n",
        "      num -= 1\n",
        "    return factorial"
      ],
      "execution_count": null,
      "outputs": []
    },
    {
      "cell_type": "code",
      "metadata": {
        "id": "pjfvlOk3i0gk",
        "outputId": "5041665b-2189-4b3a-e56a-b9992bd5649d",
        "colab": {
          "base_uri": "https://localhost:8080/",
          "height": 763
        }
      },
      "source": [
        "# Calculate the amount you are expected to will win or lose after buying the WhiteHat Jr lottery ticket.\n",
        "ticket_price = 250\n",
        "prize = 250 # Using a loop, the prize value will go from 250 to 25,000,000 by a factor of 10.\n",
        "expected_value = 0\n",
        "\n",
        "for i in range(5):\n",
        "  prob_random_variable = 1 # Calculate the probability of a random variable X = 0 to X = 4.\n",
        "  for j in range(len(prob_favourable_outcomes[i])):\n",
        "    prob_random_variable *= prob_favourable_outcomes[i][j]\n",
        "  # Multiply probability with the number of ways the numbers on the ticket can match with the numbers on the balls drawn.\n",
        "  prob_random_variable *= factorial(10) / (factorial(i) * factorial(10 - i))\n",
        "  print(f\"\\nProbability of {i} matches = {prob_random_variable}\")\n",
        "  expected_value += -ticket_price * prob_random_variable\n",
        "  print(f\"Expected value after {i} matches = {expected_value}\")\n",
        "\n",
        "print(\"\\nEnd of first 5 iterations.\\n\")\n",
        "\n",
        "for i in range(5, 11):\n",
        "  prob_random_variable = 1 # Calculate the probability of a random variable X = 5 to X = 10.\n",
        "  for j in range(len(prob_favourable_outcomes[i])):\n",
        "    prob_random_variable *= prob_favourable_outcomes[i][j]\n",
        "  # Multiply probability with the number of ways the numbers on the ticket can match with the numbers on the balls drawn.\n",
        "  prob_random_variable *= factorial(10) / (factorial(i) * factorial(10 - i))\n",
        "  print(f\"\\nProbability of {i} matches = {prob_random_variable}\")\n",
        "  expected_value += prize * prob_random_variable\n",
        "  print(f\"For {i} matches, prize = INR {prize:,.2f}\") # Print the new prize value such that the digits are separated by comma.\n",
        "  print(f\"Expected value after {i} matches = {expected_value}\")\n",
        "  prize *= 10\n",
        " "
      ],
      "execution_count": null,
      "outputs": [
        {
          "output_type": "stream",
          "text": [
            "\n",
            "Probability of 0 matches = 0.8571428571428573\n",
            "Expected value after 0 matches = -214.28571428571433\n",
            "\n",
            "Probability of 1 matches = 0.12422360248447203\n",
            "Expected value after 1 matches = -245.34161490683235\n",
            "\n",
            "Probability of 2 matches = 0.008220679576178298\n",
            "Expected value after 2 matches = -247.39678480087693\n",
            "\n",
            "Probability of 3 matches = 0.0003271912269125691\n",
            "Expected value after 3 matches = -247.47858260760506\n",
            "\n",
            "Probability of 4 matches = 8.675524956015087e-06\n",
            "Expected value after 4 matches = -247.48075148884408\n",
            "\n",
            "End of first 5 iterations.\n",
            "\n",
            "\n",
            "Probability of 5 matches = 1.601635376495093e-07\n",
            "For 5 matches, prize = INR 250.00\n",
            "Expected value after 5 matches = -247.48071144795966\n",
            "\n",
            "Probability of 6 matches = 2.085462729811319e-09\n",
            "For 6 matches, prize = INR 2,500.00\n",
            "Expected value after 6 matches = -247.48070623430283\n",
            "\n",
            "Probability of 7 matches = 1.891576172164462e-11\n",
            "For 7 matches, prize = INR 25,000.00\n",
            "Expected value after 7 matches = -247.48070576140879\n",
            "\n",
            "Probability of 8 matches = 1.1440984912285052e-13\n",
            "For 8 matches, prize = INR 250,000.00\n",
            "Expected value after 8 matches = -247.4807057328063\n",
            "\n",
            "Probability of 9 matches = 4.167936215768689e-16\n",
            "For 9 matches, prize = INR 2,500,000.00\n",
            "Expected value after 9 matches = -247.48070573176432\n",
            "\n",
            "Probability of 10 matches = 6.9465603596144825e-19\n",
            "For 10 matches, prize = INR 25,000,000.00\n",
            "Expected value after 10 matches = -247.48070573174695\n"
          ],
          "name": "stdout"
        }
      ]
    },
    {
      "cell_type": "markdown",
      "metadata": {
        "id": "SjUzLUU-dk02"
      },
      "source": [
        "**Q:** What is the expected amount to be won or lost after buying a lottery ticket?\n",
        "\n",
        "**A:** -247.48"
      ]
    },
    {
      "cell_type": "markdown",
      "metadata": {
        "id": "_LuEG2lFGT-i"
      },
      "source": [
        "---"
      ]
    },
    {
      "cell_type": "markdown",
      "metadata": {
        "id": "iai9_OU2cxtB"
      },
      "source": [
        "### Submitting the Project\n",
        "\n",
        "Follow the steps described below to submit the project.\n",
        "\n",
        "1. After finishing the project, click on the **Share** button on the top right corner of the notebook. A new dialog box will appear.\n",
        "\n",
        "  <img src='https://student-datasets-bucket.s3.ap-south-1.amazonaws.com/images/project-share-images/2_share_button.png' width=500>\n",
        "\n",
        "2. In the dialog box, click on the **Copy link** button.\n",
        "\n",
        "   <img src='https://student-datasets-bucket.s3.ap-south-1.amazonaws.com/images/project-share-images/3_copy_link.png' width=500>\n",
        "\n",
        "\n",
        "3. The link of the duplicate copy (named as **YYYY-MM-DD_StudentName_CapstoneProject13**) of the notebook will get copied \n",
        "\n",
        "   <img src='https://student-datasets-bucket.s3.ap-south-1.amazonaws.com/images/project-share-images/4_copy_link_confirmation.png' width=500>\n",
        "\n",
        "4. Go to your dashboard and click on the **My Projects** option.\n",
        "\n",
        "   <img src='https://student-datasets-bucket.s3.ap-south-1.amazonaws.com/images/project-share-images/5_student_dashboard.png' width=800>\n",
        "\n",
        "   <img src='https://student-datasets-bucket.s3.ap-south-1.amazonaws.com/images/project-share-images/6_my_projects.png' width=800>\n",
        "\n",
        "5. Click on the **View Project** button for the project you want to submit.\n",
        "\n",
        "   <img src='https://student-datasets-bucket.s3.ap-south-1.amazonaws.com/images/project-share-images/7_view_project.png' width=800>\n",
        "\n",
        "6. Click on the **Submit Project Here** button.\n",
        "\n",
        "   <img src='https://student-datasets-bucket.s3.ap-south-1.amazonaws.com/images/project-share-images/8_submit_project.png' width=800>\n",
        "\n",
        "7. Paste the link to the project file named as **YYYY-MM-DD_StudentName_CapstoneProject13** in the URL box and then click on the **Submit** button.\n",
        "\n",
        "   <img src='https://student-datasets-bucket.s3.ap-south-1.amazonaws.com/images/project-share-images/9_enter_project_url.png' width=800>\n"
      ]
    },
    {
      "cell_type": "markdown",
      "metadata": {
        "id": "KtQKNJ2YcwHh"
      },
      "source": [
        "---"
      ]
    }
  ]
}